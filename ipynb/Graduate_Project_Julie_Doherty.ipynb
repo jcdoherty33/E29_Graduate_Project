{
 "cells": [
  {
   "cell_type": "markdown",
   "metadata": {
    "slideshow": {
     "slide_type": "slide"
    }
   },
   "source": [
    "![title](images/Graduate_Project_Julie_Doherty.001.jpeg)"
   ]
  },
  {
   "cell_type": "markdown",
   "metadata": {
    "slideshow": {
     "slide_type": "slide"
    }
   },
   "source": [
    "![title](images/Graduate_Project_Julie_Doherty.002.jpeg)"
   ]
  },
  {
   "cell_type": "markdown",
   "metadata": {
    "slideshow": {
     "slide_type": "slide"
    }
   },
   "source": [
    "![title](images/Graduate_Project_Julie_Doherty.003.jpeg)"
   ]
  },
  {
   "cell_type": "markdown",
   "metadata": {
    "slideshow": {
     "slide_type": "slide"
    }
   },
   "source": [
    "![title](images/Graduate_Project_Julie_Doherty.004.jpeg)"
   ]
  },
  {
   "cell_type": "markdown",
   "metadata": {
    "slideshow": {
     "slide_type": "slide"
    }
   },
   "source": [
    "### Imports and Reading in Dataset"
   ]
  },
  {
   "cell_type": "code",
   "execution_count": 1,
   "metadata": {
    "slideshow": {
     "slide_type": "fragment"
    }
   },
   "outputs": [
    {
     "data": {
      "text/html": [
       "<script>requirejs.config({paths: { 'plotly': ['https://cdn.plot.ly/plotly-latest.min']},});if(!window.Plotly) {{require(['plotly'],function(plotly) {window.Plotly=plotly;});}}</script>"
      ],
      "text/vnd.plotly.v1+html": [
       "<script>requirejs.config({paths: { 'plotly': ['https://cdn.plot.ly/plotly-latest.min']},});if(!window.Plotly) {{require(['plotly'],function(plotly) {window.Plotly=plotly;});}}</script>"
      ]
     },
     "metadata": {},
     "output_type": "display_data"
    }
   ],
   "source": [
    "import pandas as pd\n",
    "import numpy as np\n",
    "from sklearn.model_selection import train_test_split\n",
    "from sklearn.neighbors import KNeighborsClassifier\n",
    "from sklearn.tree import DecisionTreeClassifier\n",
    "from sklearn.metrics import classification_report\n",
    "import plotly\n",
    "plotly.offline.init_notebook_mode(connected=True)\n",
    "import plotly.graph_objs as go"
   ]
  },
  {
   "cell_type": "code",
   "execution_count": 2,
   "metadata": {
    "slideshow": {
     "slide_type": "fragment"
    }
   },
   "outputs": [
    {
     "data": {
      "text/plain": [
       "(174567, 15)"
      ]
     },
     "execution_count": 2,
     "metadata": {},
     "output_type": "execute_result"
    }
   ],
   "source": [
    "# Read in json file and store in dataframe\n",
    "business = pd.read_json('yelp_dataset/business.json', lines = True)\n",
    "business.shape"
   ]
  },
  {
   "cell_type": "code",
   "execution_count": 3,
   "metadata": {
    "slideshow": {
     "slide_type": "slide"
    }
   },
   "outputs": [
    {
     "data": {
      "text/html": [
       "<div>\n",
       "<style>\n",
       "    .dataframe thead tr:only-child th {\n",
       "        text-align: right;\n",
       "    }\n",
       "\n",
       "    .dataframe thead th {\n",
       "        text-align: left;\n",
       "    }\n",
       "\n",
       "    .dataframe tbody tr th {\n",
       "        vertical-align: top;\n",
       "    }\n",
       "</style>\n",
       "<table border=\"1\" class=\"dataframe\">\n",
       "  <thead>\n",
       "    <tr style=\"text-align: right;\">\n",
       "      <th></th>\n",
       "      <th>address</th>\n",
       "      <th>attributes</th>\n",
       "      <th>business_id</th>\n",
       "      <th>categories</th>\n",
       "      <th>city</th>\n",
       "      <th>hours</th>\n",
       "      <th>is_open</th>\n",
       "      <th>latitude</th>\n",
       "      <th>longitude</th>\n",
       "      <th>name</th>\n",
       "      <th>neighborhood</th>\n",
       "      <th>postal_code</th>\n",
       "      <th>review_count</th>\n",
       "      <th>stars</th>\n",
       "      <th>state</th>\n",
       "    </tr>\n",
       "  </thead>\n",
       "  <tbody>\n",
       "    <tr>\n",
       "      <th>0</th>\n",
       "      <td>4855 E Warner Rd, Ste B9</td>\n",
       "      <td>{'AcceptsInsurance': True, 'ByAppointmentOnly'...</td>\n",
       "      <td>FYWN1wneV18bWNgQjJ2GNg</td>\n",
       "      <td>[Dentists, General Dentistry, Health &amp; Medical...</td>\n",
       "      <td>Ahwatukee</td>\n",
       "      <td>{'Friday': '7:30-17:00', 'Tuesday': '7:30-17:0...</td>\n",
       "      <td>1</td>\n",
       "      <td>33.330690</td>\n",
       "      <td>-111.978599</td>\n",
       "      <td>Dental by Design</td>\n",
       "      <td></td>\n",
       "      <td>85044</td>\n",
       "      <td>22</td>\n",
       "      <td>4.0</td>\n",
       "      <td>AZ</td>\n",
       "    </tr>\n",
       "    <tr>\n",
       "      <th>1</th>\n",
       "      <td>3101 Washington Rd</td>\n",
       "      <td>{'BusinessParking': {'garage': False, 'street'...</td>\n",
       "      <td>He-G7vWjzVUysIKrfNbPUQ</td>\n",
       "      <td>[Hair Stylists, Hair Salons, Men's Hair Salons...</td>\n",
       "      <td>McMurray</td>\n",
       "      <td>{'Monday': '9:00-20:00', 'Tuesday': '9:00-20:0...</td>\n",
       "      <td>1</td>\n",
       "      <td>40.291685</td>\n",
       "      <td>-80.104900</td>\n",
       "      <td>Stephen Szabo Salon</td>\n",
       "      <td></td>\n",
       "      <td>15317</td>\n",
       "      <td>11</td>\n",
       "      <td>3.0</td>\n",
       "      <td>PA</td>\n",
       "    </tr>\n",
       "    <tr>\n",
       "      <th>2</th>\n",
       "      <td>6025 N 27th Ave, Ste 1</td>\n",
       "      <td>{}</td>\n",
       "      <td>KQPW8lFf1y5BT2MxiSZ3QA</td>\n",
       "      <td>[Departments of Motor Vehicles, Public Service...</td>\n",
       "      <td>Phoenix</td>\n",
       "      <td>{}</td>\n",
       "      <td>1</td>\n",
       "      <td>33.524903</td>\n",
       "      <td>-112.115310</td>\n",
       "      <td>Western Motor Vehicle</td>\n",
       "      <td></td>\n",
       "      <td>85017</td>\n",
       "      <td>18</td>\n",
       "      <td>1.5</td>\n",
       "      <td>AZ</td>\n",
       "    </tr>\n",
       "    <tr>\n",
       "      <th>3</th>\n",
       "      <td>5000 Arizona Mills Cr, Ste 435</td>\n",
       "      <td>{'BusinessAcceptsCreditCards': True, 'Restaura...</td>\n",
       "      <td>8DShNS-LuFqpEWIp0HxijA</td>\n",
       "      <td>[Sporting Goods, Shopping]</td>\n",
       "      <td>Tempe</td>\n",
       "      <td>{'Monday': '10:00-21:00', 'Tuesday': '10:00-21...</td>\n",
       "      <td>0</td>\n",
       "      <td>33.383147</td>\n",
       "      <td>-111.964725</td>\n",
       "      <td>Sports Authority</td>\n",
       "      <td></td>\n",
       "      <td>85282</td>\n",
       "      <td>9</td>\n",
       "      <td>3.0</td>\n",
       "      <td>AZ</td>\n",
       "    </tr>\n",
       "    <tr>\n",
       "      <th>4</th>\n",
       "      <td>581 Howe Ave</td>\n",
       "      <td>{'Alcohol': 'full_bar', 'HasTV': True, 'NoiseL...</td>\n",
       "      <td>PfOCPjBrlQAnz__NXj9h_w</td>\n",
       "      <td>[American (New), Nightlife, Bars, Sandwiches, ...</td>\n",
       "      <td>Cuyahoga Falls</td>\n",
       "      <td>{'Monday': '11:00-1:00', 'Tuesday': '11:00-1:0...</td>\n",
       "      <td>1</td>\n",
       "      <td>41.119535</td>\n",
       "      <td>-81.475690</td>\n",
       "      <td>Brick House Tavern + Tap</td>\n",
       "      <td></td>\n",
       "      <td>44221</td>\n",
       "      <td>116</td>\n",
       "      <td>3.5</td>\n",
       "      <td>OH</td>\n",
       "    </tr>\n",
       "  </tbody>\n",
       "</table>\n",
       "</div>"
      ],
      "text/plain": [
       "                          address  \\\n",
       "0        4855 E Warner Rd, Ste B9   \n",
       "1              3101 Washington Rd   \n",
       "2          6025 N 27th Ave, Ste 1   \n",
       "3  5000 Arizona Mills Cr, Ste 435   \n",
       "4                    581 Howe Ave   \n",
       "\n",
       "                                          attributes             business_id  \\\n",
       "0  {'AcceptsInsurance': True, 'ByAppointmentOnly'...  FYWN1wneV18bWNgQjJ2GNg   \n",
       "1  {'BusinessParking': {'garage': False, 'street'...  He-G7vWjzVUysIKrfNbPUQ   \n",
       "2                                                 {}  KQPW8lFf1y5BT2MxiSZ3QA   \n",
       "3  {'BusinessAcceptsCreditCards': True, 'Restaura...  8DShNS-LuFqpEWIp0HxijA   \n",
       "4  {'Alcohol': 'full_bar', 'HasTV': True, 'NoiseL...  PfOCPjBrlQAnz__NXj9h_w   \n",
       "\n",
       "                                          categories            city  \\\n",
       "0  [Dentists, General Dentistry, Health & Medical...       Ahwatukee   \n",
       "1  [Hair Stylists, Hair Salons, Men's Hair Salons...        McMurray   \n",
       "2  [Departments of Motor Vehicles, Public Service...         Phoenix   \n",
       "3                         [Sporting Goods, Shopping]           Tempe   \n",
       "4  [American (New), Nightlife, Bars, Sandwiches, ...  Cuyahoga Falls   \n",
       "\n",
       "                                               hours  is_open   latitude  \\\n",
       "0  {'Friday': '7:30-17:00', 'Tuesday': '7:30-17:0...        1  33.330690   \n",
       "1  {'Monday': '9:00-20:00', 'Tuesday': '9:00-20:0...        1  40.291685   \n",
       "2                                                 {}        1  33.524903   \n",
       "3  {'Monday': '10:00-21:00', 'Tuesday': '10:00-21...        0  33.383147   \n",
       "4  {'Monday': '11:00-1:00', 'Tuesday': '11:00-1:0...        1  41.119535   \n",
       "\n",
       "    longitude                      name neighborhood postal_code  \\\n",
       "0 -111.978599          Dental by Design                    85044   \n",
       "1  -80.104900       Stephen Szabo Salon                    15317   \n",
       "2 -112.115310     Western Motor Vehicle                    85017   \n",
       "3 -111.964725          Sports Authority                    85282   \n",
       "4  -81.475690  Brick House Tavern + Tap                    44221   \n",
       "\n",
       "   review_count  stars state  \n",
       "0            22    4.0    AZ  \n",
       "1            11    3.0    PA  \n",
       "2            18    1.5    AZ  \n",
       "3             9    3.0    AZ  \n",
       "4           116    3.5    OH  "
      ]
     },
     "execution_count": 3,
     "metadata": {},
     "output_type": "execute_result"
    }
   ],
   "source": [
    "business.head()"
   ]
  },
  {
   "cell_type": "markdown",
   "metadata": {
    "slideshow": {
     "slide_type": "fragment"
    }
   },
   "source": [
    "The dataset consists of almost 175,000 businesses from a variety of locations, and includes information about their attributes, the categories of business into which they fall, and their hours."
   ]
  },
  {
   "cell_type": "markdown",
   "metadata": {
    "slideshow": {
     "slide_type": "slide"
    }
   },
   "source": [
    "### Data Cleaning"
   ]
  },
  {
   "cell_type": "markdown",
   "metadata": {
    "slideshow": {
     "slide_type": "fragment"
    }
   },
   "source": [
    "My goal is to analyze the star ratings of restaurants, so I'll use the \"categories\" column to filter the businesses in the dataset. Using a set containing categories that pertain to any restaurant-type business, I'll check whether each row in the dataframe contains any of the values in the set and create a new dataframe with just those that return true."
   ]
  },
  {
   "cell_type": "code",
   "execution_count": 4,
   "metadata": {
    "slideshow": {
     "slide_type": "slide"
    }
   },
   "outputs": [],
   "source": [
    "# Categories encompassing restaurant-related businesses\n",
    "restaurant_cats = set(['Restaurants', 'Food', 'Bars', 'Sandwiches', 'Italian', 'Coffee & Tea', \n",
    "                   'Ice Cream & Frozen Yogurt', 'Breakfast & Brunch', 'Bakeries', 'Bagels', 'French', 'American (New)'\n",
    "                   'American (Traditional)', 'Mexican', 'Soup', 'Salad', 'Tea Rooms', 'Pubs', 'Comfort Food', \n",
    "                   'Desserts', 'Seafood', 'Fast Food', 'Burgers'])"
   ]
  },
  {
   "cell_type": "code",
   "execution_count": 5,
   "metadata": {
    "slideshow": {
     "slide_type": "fragment"
    }
   },
   "outputs": [],
   "source": [
    "def in_list(business_cats):\n",
    "    \"\"\"\n",
    "    Return true if any of the business's categories are found in set; otherwise return false.\n",
    "    \n",
    "    @param business_cats: list of categories\n",
    "    @return boolean value \n",
    "    \"\"\"\n",
    "    if restaurant_cats.intersection(business_cats):\n",
    "        return True\n",
    "    else:\n",
    "        return False"
   ]
  },
  {
   "cell_type": "code",
   "execution_count": 6,
   "metadata": {
    "slideshow": {
     "slide_type": "fragment"
    }
   },
   "outputs": [],
   "source": [
    "# Add 'restaurant' column to business dataframe that contains true/false values\n",
    "business['restaurant'] = business['categories'].apply(in_list)"
   ]
  },
  {
   "cell_type": "code",
   "execution_count": 7,
   "metadata": {
    "slideshow": {
     "slide_type": "slide"
    }
   },
   "outputs": [
    {
     "data": {
      "text/html": [
       "<div>\n",
       "<style>\n",
       "    .dataframe thead tr:only-child th {\n",
       "        text-align: right;\n",
       "    }\n",
       "\n",
       "    .dataframe thead th {\n",
       "        text-align: left;\n",
       "    }\n",
       "\n",
       "    .dataframe tbody tr th {\n",
       "        vertical-align: top;\n",
       "    }\n",
       "</style>\n",
       "<table border=\"1\" class=\"dataframe\">\n",
       "  <thead>\n",
       "    <tr style=\"text-align: right;\">\n",
       "      <th></th>\n",
       "      <th>address</th>\n",
       "      <th>attributes</th>\n",
       "      <th>business_id</th>\n",
       "      <th>categories</th>\n",
       "      <th>city</th>\n",
       "      <th>hours</th>\n",
       "      <th>is_open</th>\n",
       "      <th>latitude</th>\n",
       "      <th>longitude</th>\n",
       "      <th>name</th>\n",
       "      <th>neighborhood</th>\n",
       "      <th>postal_code</th>\n",
       "      <th>review_count</th>\n",
       "      <th>stars</th>\n",
       "      <th>state</th>\n",
       "      <th>restaurant</th>\n",
       "    </tr>\n",
       "  </thead>\n",
       "  <tbody>\n",
       "    <tr>\n",
       "      <th>4</th>\n",
       "      <td>581 Howe Ave</td>\n",
       "      <td>{'Alcohol': 'full_bar', 'HasTV': True, 'NoiseL...</td>\n",
       "      <td>PfOCPjBrlQAnz__NXj9h_w</td>\n",
       "      <td>[American (New), Nightlife, Bars, Sandwiches, ...</td>\n",
       "      <td>Cuyahoga Falls</td>\n",
       "      <td>{'Monday': '11:00-1:00', 'Tuesday': '11:00-1:0...</td>\n",
       "      <td>1</td>\n",
       "      <td>41.119535</td>\n",
       "      <td>-81.475690</td>\n",
       "      <td>Brick House Tavern + Tap</td>\n",
       "      <td></td>\n",
       "      <td>44221</td>\n",
       "      <td>116</td>\n",
       "      <td>3.5</td>\n",
       "      <td>OH</td>\n",
       "      <td>True</td>\n",
       "    </tr>\n",
       "    <tr>\n",
       "      <th>5</th>\n",
       "      <td>Richterstr. 11</td>\n",
       "      <td>{'GoodForMeal': {'dessert': False, 'latenight'...</td>\n",
       "      <td>o9eMRCWt5PkpLDE0gOPtcQ</td>\n",
       "      <td>[Italian, Restaurants]</td>\n",
       "      <td>Stuttgart</td>\n",
       "      <td>{'Monday': '18:00-0:00', 'Tuesday': '18:00-0:0...</td>\n",
       "      <td>1</td>\n",
       "      <td>48.727200</td>\n",
       "      <td>9.147950</td>\n",
       "      <td>Messina</td>\n",
       "      <td></td>\n",
       "      <td>70567</td>\n",
       "      <td>5</td>\n",
       "      <td>4.0</td>\n",
       "      <td>BW</td>\n",
       "      <td>True</td>\n",
       "    </tr>\n",
       "    <tr>\n",
       "      <th>8</th>\n",
       "      <td>2612 Brandt School Rd</td>\n",
       "      <td>{'BusinessParking': {'garage': False, 'street'...</td>\n",
       "      <td>EsMcGiZaQuG1OOvL9iUFug</td>\n",
       "      <td>[Coffee &amp; Tea, Ice Cream &amp; Frozen Yogurt, Food]</td>\n",
       "      <td>Wexford</td>\n",
       "      <td>{}</td>\n",
       "      <td>1</td>\n",
       "      <td>40.615102</td>\n",
       "      <td>-80.091349</td>\n",
       "      <td>Any Given Sundae</td>\n",
       "      <td></td>\n",
       "      <td>15090</td>\n",
       "      <td>15</td>\n",
       "      <td>5.0</td>\n",
       "      <td>PA</td>\n",
       "      <td>True</td>\n",
       "    </tr>\n",
       "    <tr>\n",
       "      <th>10</th>\n",
       "      <td>737 West Pike St</td>\n",
       "      <td>{'RestaurantsTableService': True, 'GoodForMeal...</td>\n",
       "      <td>XOSRcvtaKc_Q5H1SAzN20A</td>\n",
       "      <td>[Breakfast &amp; Brunch, Gluten-Free, Coffee &amp; Tea...</td>\n",
       "      <td>Houston</td>\n",
       "      <td>{}</td>\n",
       "      <td>0</td>\n",
       "      <td>40.241548</td>\n",
       "      <td>-80.212815</td>\n",
       "      <td>East Coast Coffee</td>\n",
       "      <td></td>\n",
       "      <td>15342</td>\n",
       "      <td>3</td>\n",
       "      <td>4.5</td>\n",
       "      <td>PA</td>\n",
       "      <td>True</td>\n",
       "    </tr>\n",
       "    <tr>\n",
       "      <th>12</th>\n",
       "      <td>35 Main Street N</td>\n",
       "      <td>{'BusinessParking': {'garage': False, 'street'...</td>\n",
       "      <td>xcgFnd-MwkZeO5G2HQ0gAQ</td>\n",
       "      <td>[Bakeries, Bagels, Food]</td>\n",
       "      <td>Markham</td>\n",
       "      <td>{}</td>\n",
       "      <td>1</td>\n",
       "      <td>43.875177</td>\n",
       "      <td>-79.260153</td>\n",
       "      <td>T &amp; T Bakery and Cafe</td>\n",
       "      <td>Markham Village</td>\n",
       "      <td>L3P 1X3</td>\n",
       "      <td>38</td>\n",
       "      <td>4.0</td>\n",
       "      <td>ON</td>\n",
       "      <td>True</td>\n",
       "    </tr>\n",
       "  </tbody>\n",
       "</table>\n",
       "</div>"
      ],
      "text/plain": [
       "                  address                                         attributes  \\\n",
       "4            581 Howe Ave  {'Alcohol': 'full_bar', 'HasTV': True, 'NoiseL...   \n",
       "5          Richterstr. 11  {'GoodForMeal': {'dessert': False, 'latenight'...   \n",
       "8   2612 Brandt School Rd  {'BusinessParking': {'garage': False, 'street'...   \n",
       "10       737 West Pike St  {'RestaurantsTableService': True, 'GoodForMeal...   \n",
       "12       35 Main Street N  {'BusinessParking': {'garage': False, 'street'...   \n",
       "\n",
       "               business_id                                         categories  \\\n",
       "4   PfOCPjBrlQAnz__NXj9h_w  [American (New), Nightlife, Bars, Sandwiches, ...   \n",
       "5   o9eMRCWt5PkpLDE0gOPtcQ                             [Italian, Restaurants]   \n",
       "8   EsMcGiZaQuG1OOvL9iUFug    [Coffee & Tea, Ice Cream & Frozen Yogurt, Food]   \n",
       "10  XOSRcvtaKc_Q5H1SAzN20A  [Breakfast & Brunch, Gluten-Free, Coffee & Tea...   \n",
       "12  xcgFnd-MwkZeO5G2HQ0gAQ                           [Bakeries, Bagels, Food]   \n",
       "\n",
       "              city                                              hours  \\\n",
       "4   Cuyahoga Falls  {'Monday': '11:00-1:00', 'Tuesday': '11:00-1:0...   \n",
       "5        Stuttgart  {'Monday': '18:00-0:00', 'Tuesday': '18:00-0:0...   \n",
       "8          Wexford                                                 {}   \n",
       "10         Houston                                                 {}   \n",
       "12         Markham                                                 {}   \n",
       "\n",
       "    is_open   latitude  longitude                      name     neighborhood  \\\n",
       "4         1  41.119535 -81.475690  Brick House Tavern + Tap                    \n",
       "5         1  48.727200   9.147950                   Messina                    \n",
       "8         1  40.615102 -80.091349          Any Given Sundae                    \n",
       "10        0  40.241548 -80.212815         East Coast Coffee                    \n",
       "12        1  43.875177 -79.260153     T & T Bakery and Cafe  Markham Village   \n",
       "\n",
       "   postal_code  review_count  stars state  restaurant  \n",
       "4        44221           116    3.5    OH        True  \n",
       "5        70567             5    4.0    BW        True  \n",
       "8        15090            15    5.0    PA        True  \n",
       "10       15342             3    4.5    PA        True  \n",
       "12     L3P 1X3            38    4.0    ON        True  "
      ]
     },
     "execution_count": 7,
     "metadata": {},
     "output_type": "execute_result"
    }
   ],
   "source": [
    "# Create new dataframe containing only restaurants\n",
    "restaurants = business[business['restaurant'] == True].copy()\n",
    "restaurants.head()"
   ]
  },
  {
   "cell_type": "markdown",
   "metadata": {
    "slideshow": {
     "slide_type": "slide"
    }
   },
   "source": [
    "Next I'll remove any businesses that are not currently open using the \"is_open\" column in order to remove discrepanies based on the open status, drop the columns that will not be used in the analysis (mainly those pertaining to location), and reset the index."
   ]
  },
  {
   "cell_type": "code",
   "execution_count": 8,
   "metadata": {
    "slideshow": {
     "slide_type": "fragment"
    }
   },
   "outputs": [],
   "source": [
    "# Filter out restaurants that are not currently open\n",
    "restaurants = restaurants[restaurants['is_open'] == 1]\n",
    "\n",
    "# Drop unnecessary columns\n",
    "restaurants.drop(['address', 'city', 'is_open', 'latitude', 'longitude', 'name', 'neighborhood', 'postal_code', \n",
    "                  'state', 'restaurant', 'business_id', 'categories', 'hours'], axis = 1, inplace = True)\n",
    "\n",
    "# Reset index\n",
    "restaurants.reset_index(drop = True, inplace = True)"
   ]
  },
  {
   "cell_type": "markdown",
   "metadata": {
    "slideshow": {
     "slide_type": "slide"
    }
   },
   "source": [
    "The \"attributes\" column contains the majority of the information that will be used for the analysis. However, this data is contained in a dictionary in a single column. I'll create a new dataframe in which to split out each value of the dictionaries, and concatenate that to the restaurants dataframe."
   ]
  },
  {
   "cell_type": "code",
   "execution_count": 9,
   "metadata": {
    "slideshow": {
     "slide_type": "fragment"
    }
   },
   "outputs": [
    {
     "data": {
      "text/html": [
       "<div>\n",
       "<style>\n",
       "    .dataframe thead tr:only-child th {\n",
       "        text-align: right;\n",
       "    }\n",
       "\n",
       "    .dataframe thead th {\n",
       "        text-align: left;\n",
       "    }\n",
       "\n",
       "    .dataframe tbody tr th {\n",
       "        vertical-align: top;\n",
       "    }\n",
       "</style>\n",
       "<table border=\"1\" class=\"dataframe\">\n",
       "  <thead>\n",
       "    <tr style=\"text-align: right;\">\n",
       "      <th></th>\n",
       "      <th>AcceptsInsurance</th>\n",
       "      <th>AgesAllowed</th>\n",
       "      <th>Alcohol</th>\n",
       "      <th>Ambience</th>\n",
       "      <th>BYOB</th>\n",
       "      <th>BYOBCorkage</th>\n",
       "      <th>BestNights</th>\n",
       "      <th>BikeParking</th>\n",
       "      <th>BusinessAcceptsBitcoin</th>\n",
       "      <th>BusinessAcceptsCreditCards</th>\n",
       "      <th>...</th>\n",
       "      <th>RestaurantsCounterService</th>\n",
       "      <th>RestaurantsDelivery</th>\n",
       "      <th>RestaurantsGoodForGroups</th>\n",
       "      <th>RestaurantsPriceRange2</th>\n",
       "      <th>RestaurantsReservations</th>\n",
       "      <th>RestaurantsTableService</th>\n",
       "      <th>RestaurantsTakeOut</th>\n",
       "      <th>Smoking</th>\n",
       "      <th>WheelchairAccessible</th>\n",
       "      <th>WiFi</th>\n",
       "    </tr>\n",
       "  </thead>\n",
       "  <tbody>\n",
       "    <tr>\n",
       "      <th>0</th>\n",
       "      <td>NaN</td>\n",
       "      <td>NaN</td>\n",
       "      <td>full_bar</td>\n",
       "      <td>{'romantic': False, 'intimate': False, 'classy...</td>\n",
       "      <td>NaN</td>\n",
       "      <td>NaN</td>\n",
       "      <td>{'monday': False, 'tuesday': False, 'friday': ...</td>\n",
       "      <td>True</td>\n",
       "      <td>NaN</td>\n",
       "      <td>True</td>\n",
       "      <td>...</td>\n",
       "      <td>NaN</td>\n",
       "      <td>False</td>\n",
       "      <td>True</td>\n",
       "      <td>2.0</td>\n",
       "      <td>False</td>\n",
       "      <td>True</td>\n",
       "      <td>True</td>\n",
       "      <td>outdoor</td>\n",
       "      <td>NaN</td>\n",
       "      <td>free</td>\n",
       "    </tr>\n",
       "    <tr>\n",
       "      <th>1</th>\n",
       "      <td>NaN</td>\n",
       "      <td>NaN</td>\n",
       "      <td>beer_and_wine</td>\n",
       "      <td>{'romantic': False, 'intimate': False, 'classy...</td>\n",
       "      <td>NaN</td>\n",
       "      <td>NaN</td>\n",
       "      <td>NaN</td>\n",
       "      <td>NaN</td>\n",
       "      <td>NaN</td>\n",
       "      <td>True</td>\n",
       "      <td>...</td>\n",
       "      <td>NaN</td>\n",
       "      <td>False</td>\n",
       "      <td>True</td>\n",
       "      <td>3.0</td>\n",
       "      <td>True</td>\n",
       "      <td>NaN</td>\n",
       "      <td>False</td>\n",
       "      <td>NaN</td>\n",
       "      <td>False</td>\n",
       "      <td>NaN</td>\n",
       "    </tr>\n",
       "    <tr>\n",
       "      <th>2</th>\n",
       "      <td>NaN</td>\n",
       "      <td>NaN</td>\n",
       "      <td>NaN</td>\n",
       "      <td>NaN</td>\n",
       "      <td>NaN</td>\n",
       "      <td>NaN</td>\n",
       "      <td>NaN</td>\n",
       "      <td>False</td>\n",
       "      <td>NaN</td>\n",
       "      <td>True</td>\n",
       "      <td>...</td>\n",
       "      <td>NaN</td>\n",
       "      <td>NaN</td>\n",
       "      <td>NaN</td>\n",
       "      <td>1.0</td>\n",
       "      <td>NaN</td>\n",
       "      <td>NaN</td>\n",
       "      <td>True</td>\n",
       "      <td>NaN</td>\n",
       "      <td>NaN</td>\n",
       "      <td>free</td>\n",
       "    </tr>\n",
       "    <tr>\n",
       "      <th>3</th>\n",
       "      <td>NaN</td>\n",
       "      <td>NaN</td>\n",
       "      <td>NaN</td>\n",
       "      <td>NaN</td>\n",
       "      <td>NaN</td>\n",
       "      <td>NaN</td>\n",
       "      <td>NaN</td>\n",
       "      <td>True</td>\n",
       "      <td>NaN</td>\n",
       "      <td>False</td>\n",
       "      <td>...</td>\n",
       "      <td>NaN</td>\n",
       "      <td>False</td>\n",
       "      <td>NaN</td>\n",
       "      <td>1.0</td>\n",
       "      <td>NaN</td>\n",
       "      <td>NaN</td>\n",
       "      <td>True</td>\n",
       "      <td>NaN</td>\n",
       "      <td>NaN</td>\n",
       "      <td>NaN</td>\n",
       "    </tr>\n",
       "    <tr>\n",
       "      <th>4</th>\n",
       "      <td>NaN</td>\n",
       "      <td>NaN</td>\n",
       "      <td>NaN</td>\n",
       "      <td>{'romantic': False, 'intimate': False, 'classy...</td>\n",
       "      <td>NaN</td>\n",
       "      <td>NaN</td>\n",
       "      <td>NaN</td>\n",
       "      <td>True</td>\n",
       "      <td>NaN</td>\n",
       "      <td>True</td>\n",
       "      <td>...</td>\n",
       "      <td>NaN</td>\n",
       "      <td>False</td>\n",
       "      <td>True</td>\n",
       "      <td>1.0</td>\n",
       "      <td>False</td>\n",
       "      <td>False</td>\n",
       "      <td>True</td>\n",
       "      <td>NaN</td>\n",
       "      <td>NaN</td>\n",
       "      <td>free</td>\n",
       "    </tr>\n",
       "  </tbody>\n",
       "</table>\n",
       "<p>5 rows × 39 columns</p>\n",
       "</div>"
      ],
      "text/plain": [
       "  AcceptsInsurance AgesAllowed        Alcohol  \\\n",
       "0              NaN         NaN       full_bar   \n",
       "1              NaN         NaN  beer_and_wine   \n",
       "2              NaN         NaN            NaN   \n",
       "3              NaN         NaN            NaN   \n",
       "4              NaN         NaN            NaN   \n",
       "\n",
       "                                            Ambience BYOB BYOBCorkage  \\\n",
       "0  {'romantic': False, 'intimate': False, 'classy...  NaN         NaN   \n",
       "1  {'romantic': False, 'intimate': False, 'classy...  NaN         NaN   \n",
       "2                                                NaN  NaN         NaN   \n",
       "3                                                NaN  NaN         NaN   \n",
       "4  {'romantic': False, 'intimate': False, 'classy...  NaN         NaN   \n",
       "\n",
       "                                          BestNights BikeParking  \\\n",
       "0  {'monday': False, 'tuesday': False, 'friday': ...        True   \n",
       "1                                                NaN         NaN   \n",
       "2                                                NaN       False   \n",
       "3                                                NaN        True   \n",
       "4                                                NaN        True   \n",
       "\n",
       "  BusinessAcceptsBitcoin BusinessAcceptsCreditCards  ...   \\\n",
       "0                    NaN                       True  ...    \n",
       "1                    NaN                       True  ...    \n",
       "2                    NaN                       True  ...    \n",
       "3                    NaN                      False  ...    \n",
       "4                    NaN                       True  ...    \n",
       "\n",
       "  RestaurantsCounterService RestaurantsDelivery RestaurantsGoodForGroups  \\\n",
       "0                       NaN               False                     True   \n",
       "1                       NaN               False                     True   \n",
       "2                       NaN                 NaN                      NaN   \n",
       "3                       NaN               False                      NaN   \n",
       "4                       NaN               False                     True   \n",
       "\n",
       "  RestaurantsPriceRange2 RestaurantsReservations RestaurantsTableService  \\\n",
       "0                    2.0                   False                    True   \n",
       "1                    3.0                    True                     NaN   \n",
       "2                    1.0                     NaN                     NaN   \n",
       "3                    1.0                     NaN                     NaN   \n",
       "4                    1.0                   False                   False   \n",
       "\n",
       "  RestaurantsTakeOut  Smoking WheelchairAccessible  WiFi  \n",
       "0               True  outdoor                  NaN  free  \n",
       "1              False      NaN                False   NaN  \n",
       "2               True      NaN                  NaN  free  \n",
       "3               True      NaN                  NaN   NaN  \n",
       "4               True      NaN                  NaN  free  \n",
       "\n",
       "[5 rows x 39 columns]"
      ]
     },
     "execution_count": 9,
     "metadata": {},
     "output_type": "execute_result"
    }
   ],
   "source": [
    "# Create a new dataframe in which to split out attributes\n",
    "attributes = restaurants['attributes'].apply(pd.Series)\n",
    "attributes.head()"
   ]
  },
  {
   "cell_type": "markdown",
   "metadata": {
    "slideshow": {
     "slide_type": "slide"
    }
   },
   "source": [
    "From the full list of attributes, I'll narrow down the columns in the dataframe to those that I'm predicting will have an impact on restaurants' star ratings. I will then split out the \"BusinessParking\" attribute, which contains a dictionary in each row."
   ]
  },
  {
   "cell_type": "code",
   "execution_count": 10,
   "metadata": {
    "slideshow": {
     "slide_type": "fragment"
    }
   },
   "outputs": [
    {
     "data": {
      "text/plain": [
       "Index(['AcceptsInsurance', 'AgesAllowed', 'Alcohol', 'Ambience', 'BYOB',\n",
       "       'BYOBCorkage', 'BestNights', 'BikeParking', 'BusinessAcceptsBitcoin',\n",
       "       'BusinessAcceptsCreditCards', 'BusinessParking', 'ByAppointmentOnly',\n",
       "       'Caters', 'CoatCheck', 'Corkage', 'DietaryRestrictions', 'DogsAllowed',\n",
       "       'DriveThru', 'GoodForDancing', 'GoodForKids', 'GoodForMeal',\n",
       "       'HairSpecializesIn', 'HappyHour', 'HasTV', 'Music', 'NoiseLevel',\n",
       "       'Open24Hours', 'OutdoorSeating', 'RestaurantsAttire',\n",
       "       'RestaurantsCounterService', 'RestaurantsDelivery',\n",
       "       'RestaurantsGoodForGroups', 'RestaurantsPriceRange2',\n",
       "       'RestaurantsReservations', 'RestaurantsTableService',\n",
       "       'RestaurantsTakeOut', 'Smoking', 'WheelchairAccessible', 'WiFi'],\n",
       "      dtype='object')"
      ]
     },
     "execution_count": 10,
     "metadata": {},
     "output_type": "execute_result"
    }
   ],
   "source": [
    "# View all attributes\n",
    "attributes.columns"
   ]
  },
  {
   "cell_type": "code",
   "execution_count": 11,
   "metadata": {
    "slideshow": {
     "slide_type": "slide"
    }
   },
   "outputs": [
    {
     "data": {
      "text/html": [
       "<div>\n",
       "<style>\n",
       "    .dataframe thead tr:only-child th {\n",
       "        text-align: right;\n",
       "    }\n",
       "\n",
       "    .dataframe thead th {\n",
       "        text-align: left;\n",
       "    }\n",
       "\n",
       "    .dataframe tbody tr th {\n",
       "        vertical-align: top;\n",
       "    }\n",
       "</style>\n",
       "<table border=\"1\" class=\"dataframe\">\n",
       "  <thead>\n",
       "    <tr style=\"text-align: right;\">\n",
       "      <th></th>\n",
       "      <th>Alcohol</th>\n",
       "      <th>BikeParking</th>\n",
       "      <th>BusinessAcceptsCreditCards</th>\n",
       "      <th>BusinessParking</th>\n",
       "      <th>RestaurantsPriceRange2</th>\n",
       "      <th>RestaurantsReservations</th>\n",
       "      <th>WiFi</th>\n",
       "    </tr>\n",
       "  </thead>\n",
       "  <tbody>\n",
       "    <tr>\n",
       "      <th>0</th>\n",
       "      <td>full_bar</td>\n",
       "      <td>True</td>\n",
       "      <td>True</td>\n",
       "      <td>{'garage': False, 'street': False, 'validated'...</td>\n",
       "      <td>2.0</td>\n",
       "      <td>False</td>\n",
       "      <td>free</td>\n",
       "    </tr>\n",
       "    <tr>\n",
       "      <th>1</th>\n",
       "      <td>beer_and_wine</td>\n",
       "      <td>NaN</td>\n",
       "      <td>True</td>\n",
       "      <td>{'garage': False, 'street': False, 'validated'...</td>\n",
       "      <td>3.0</td>\n",
       "      <td>True</td>\n",
       "      <td>NaN</td>\n",
       "    </tr>\n",
       "    <tr>\n",
       "      <th>2</th>\n",
       "      <td>NaN</td>\n",
       "      <td>False</td>\n",
       "      <td>True</td>\n",
       "      <td>{'garage': False, 'street': False, 'validated'...</td>\n",
       "      <td>1.0</td>\n",
       "      <td>NaN</td>\n",
       "      <td>free</td>\n",
       "    </tr>\n",
       "    <tr>\n",
       "      <th>3</th>\n",
       "      <td>NaN</td>\n",
       "      <td>True</td>\n",
       "      <td>False</td>\n",
       "      <td>{'garage': False, 'street': True, 'validated':...</td>\n",
       "      <td>1.0</td>\n",
       "      <td>NaN</td>\n",
       "      <td>NaN</td>\n",
       "    </tr>\n",
       "    <tr>\n",
       "      <th>4</th>\n",
       "      <td>NaN</td>\n",
       "      <td>True</td>\n",
       "      <td>True</td>\n",
       "      <td>NaN</td>\n",
       "      <td>1.0</td>\n",
       "      <td>False</td>\n",
       "      <td>free</td>\n",
       "    </tr>\n",
       "  </tbody>\n",
       "</table>\n",
       "</div>"
      ],
      "text/plain": [
       "         Alcohol BikeParking BusinessAcceptsCreditCards  \\\n",
       "0       full_bar        True                       True   \n",
       "1  beer_and_wine         NaN                       True   \n",
       "2            NaN       False                       True   \n",
       "3            NaN        True                      False   \n",
       "4            NaN        True                       True   \n",
       "\n",
       "                                     BusinessParking  RestaurantsPriceRange2  \\\n",
       "0  {'garage': False, 'street': False, 'validated'...                     2.0   \n",
       "1  {'garage': False, 'street': False, 'validated'...                     3.0   \n",
       "2  {'garage': False, 'street': False, 'validated'...                     1.0   \n",
       "3  {'garage': False, 'street': True, 'validated':...                     1.0   \n",
       "4                                                NaN                     1.0   \n",
       "\n",
       "  RestaurantsReservations  WiFi  \n",
       "0                   False  free  \n",
       "1                    True   NaN  \n",
       "2                     NaN  free  \n",
       "3                     NaN   NaN  \n",
       "4                   False  free  "
      ]
     },
     "execution_count": 11,
     "metadata": {},
     "output_type": "execute_result"
    }
   ],
   "source": [
    "# Filter down to relevant attributes\n",
    "attributes_short = attributes[['Alcohol', 'BikeParking', 'BusinessAcceptsCreditCards', 'BusinessParking', \n",
    "                               'RestaurantsPriceRange2', 'RestaurantsReservations', 'WiFi']]\n",
    "attributes_short.head()"
   ]
  },
  {
   "cell_type": "code",
   "execution_count": 12,
   "metadata": {
    "slideshow": {
     "slide_type": "fragment"
    }
   },
   "outputs": [
    {
     "name": "stderr",
     "output_type": "stream",
     "text": [
      "/anaconda3/lib/python3.6/site-packages/pandas/core/indexes/api.py:43: RuntimeWarning:\n",
      "\n",
      "'<' not supported between instances of 'int' and 'str', sort order is undefined for incomparable objects\n",
      "\n",
      "/anaconda3/lib/python3.6/site-packages/pandas/core/indexes/api.py:77: RuntimeWarning:\n",
      "\n",
      "'<' not supported between instances of 'int' and 'str', sort order is undefined for incomparable objects\n",
      "\n"
     ]
    },
    {
     "data": {
      "text/html": [
       "<div>\n",
       "<style>\n",
       "    .dataframe thead tr:only-child th {\n",
       "        text-align: right;\n",
       "    }\n",
       "\n",
       "    .dataframe thead th {\n",
       "        text-align: left;\n",
       "    }\n",
       "\n",
       "    .dataframe tbody tr th {\n",
       "        vertical-align: top;\n",
       "    }\n",
       "</style>\n",
       "<table border=\"1\" class=\"dataframe\">\n",
       "  <thead>\n",
       "    <tr style=\"text-align: right;\">\n",
       "      <th></th>\n",
       "      <th>garage</th>\n",
       "      <th>lot</th>\n",
       "      <th>street</th>\n",
       "      <th>valet</th>\n",
       "      <th>validated</th>\n",
       "    </tr>\n",
       "  </thead>\n",
       "  <tbody>\n",
       "    <tr>\n",
       "      <th>0</th>\n",
       "      <td>False</td>\n",
       "      <td>True</td>\n",
       "      <td>False</td>\n",
       "      <td>False</td>\n",
       "      <td>False</td>\n",
       "    </tr>\n",
       "    <tr>\n",
       "      <th>1</th>\n",
       "      <td>False</td>\n",
       "      <td>False</td>\n",
       "      <td>False</td>\n",
       "      <td>False</td>\n",
       "      <td>False</td>\n",
       "    </tr>\n",
       "    <tr>\n",
       "      <th>2</th>\n",
       "      <td>False</td>\n",
       "      <td>True</td>\n",
       "      <td>False</td>\n",
       "      <td>False</td>\n",
       "      <td>False</td>\n",
       "    </tr>\n",
       "    <tr>\n",
       "      <th>3</th>\n",
       "      <td>False</td>\n",
       "      <td>True</td>\n",
       "      <td>True</td>\n",
       "      <td>False</td>\n",
       "      <td>False</td>\n",
       "    </tr>\n",
       "    <tr>\n",
       "      <th>4</th>\n",
       "      <td>NaN</td>\n",
       "      <td>NaN</td>\n",
       "      <td>NaN</td>\n",
       "      <td>NaN</td>\n",
       "      <td>NaN</td>\n",
       "    </tr>\n",
       "  </tbody>\n",
       "</table>\n",
       "</div>"
      ],
      "text/plain": [
       "  garage    lot street  valet validated\n",
       "0  False   True  False  False     False\n",
       "1  False  False  False  False     False\n",
       "2  False   True  False  False     False\n",
       "3  False   True   True  False     False\n",
       "4    NaN    NaN    NaN    NaN       NaN"
      ]
     },
     "execution_count": 12,
     "metadata": {},
     "output_type": "execute_result"
    }
   ],
   "source": [
    "# Split out business parking attribute\n",
    "parking = attributes_short['BusinessParking'].apply(pd.Series)\n",
    "parking.drop(0, axis = 1, inplace = True)\n",
    "parking.head()"
   ]
  },
  {
   "cell_type": "markdown",
   "metadata": {
    "slideshow": {
     "slide_type": "slide"
    }
   },
   "source": [
    "Now that all of the attributes have been split out into individual columns, I'll recombine the attributes and parking dataframes with the original restaurants dataframe and remove the columns containing dictionaries."
   ]
  },
  {
   "cell_type": "code",
   "execution_count": 13,
   "metadata": {
    "slideshow": {
     "slide_type": "fragment"
    }
   },
   "outputs": [],
   "source": [
    "# Concatenate all three dataframes together\n",
    "rest_attributes_short = pd.concat([restaurants, attributes_short, parking], axis = 1)\n",
    "\n",
    "# Drop the columns containing dictionaries\n",
    "rest_attributes_short.drop(['attributes', 'BusinessParking'], axis = 1, inplace = True)"
   ]
  },
  {
   "cell_type": "markdown",
   "metadata": {
    "slideshow": {
     "slide_type": "slide"
    }
   },
   "source": [
    "Because the dataframe still has plenty of missing data, I'll drop all rows that contain any NaN values and once again reset the index. I've chosen to drop missing data because an NaN value for any attribute does not necessarily mean the restaurant does not have that attribute, and leaving these values intact might skew the analysis."
   ]
  },
  {
   "cell_type": "code",
   "execution_count": 14,
   "metadata": {
    "slideshow": {
     "slide_type": "fragment"
    }
   },
   "outputs": [
    {
     "name": "stdout",
     "output_type": "stream",
     "text": [
      "(23732, 13)\n"
     ]
    },
    {
     "data": {
      "text/html": [
       "<div>\n",
       "<style>\n",
       "    .dataframe thead tr:only-child th {\n",
       "        text-align: right;\n",
       "    }\n",
       "\n",
       "    .dataframe thead th {\n",
       "        text-align: left;\n",
       "    }\n",
       "\n",
       "    .dataframe tbody tr th {\n",
       "        vertical-align: top;\n",
       "    }\n",
       "</style>\n",
       "<table border=\"1\" class=\"dataframe\">\n",
       "  <thead>\n",
       "    <tr style=\"text-align: right;\">\n",
       "      <th></th>\n",
       "      <th>review_count</th>\n",
       "      <th>stars</th>\n",
       "      <th>Alcohol</th>\n",
       "      <th>BikeParking</th>\n",
       "      <th>BusinessAcceptsCreditCards</th>\n",
       "      <th>RestaurantsPriceRange2</th>\n",
       "      <th>RestaurantsReservations</th>\n",
       "      <th>WiFi</th>\n",
       "      <th>garage</th>\n",
       "      <th>lot</th>\n",
       "      <th>street</th>\n",
       "      <th>valet</th>\n",
       "      <th>validated</th>\n",
       "    </tr>\n",
       "  </thead>\n",
       "  <tbody>\n",
       "    <tr>\n",
       "      <th>0</th>\n",
       "      <td>116</td>\n",
       "      <td>3.5</td>\n",
       "      <td>full_bar</td>\n",
       "      <td>True</td>\n",
       "      <td>True</td>\n",
       "      <td>2.0</td>\n",
       "      <td>False</td>\n",
       "      <td>free</td>\n",
       "      <td>False</td>\n",
       "      <td>True</td>\n",
       "      <td>False</td>\n",
       "      <td>False</td>\n",
       "      <td>False</td>\n",
       "    </tr>\n",
       "    <tr>\n",
       "      <th>1</th>\n",
       "      <td>34</td>\n",
       "      <td>3.5</td>\n",
       "      <td>full_bar</td>\n",
       "      <td>True</td>\n",
       "      <td>True</td>\n",
       "      <td>2.0</td>\n",
       "      <td>True</td>\n",
       "      <td>no</td>\n",
       "      <td>False</td>\n",
       "      <td>True</td>\n",
       "      <td>False</td>\n",
       "      <td>False</td>\n",
       "      <td>False</td>\n",
       "    </tr>\n",
       "    <tr>\n",
       "      <th>2</th>\n",
       "      <td>78</td>\n",
       "      <td>3.5</td>\n",
       "      <td>full_bar</td>\n",
       "      <td>True</td>\n",
       "      <td>True</td>\n",
       "      <td>2.0</td>\n",
       "      <td>False</td>\n",
       "      <td>free</td>\n",
       "      <td>False</td>\n",
       "      <td>True</td>\n",
       "      <td>True</td>\n",
       "      <td>False</td>\n",
       "      <td>False</td>\n",
       "    </tr>\n",
       "    <tr>\n",
       "      <th>3</th>\n",
       "      <td>10</td>\n",
       "      <td>1.0</td>\n",
       "      <td>none</td>\n",
       "      <td>True</td>\n",
       "      <td>True</td>\n",
       "      <td>1.0</td>\n",
       "      <td>False</td>\n",
       "      <td>free</td>\n",
       "      <td>False</td>\n",
       "      <td>True</td>\n",
       "      <td>False</td>\n",
       "      <td>False</td>\n",
       "      <td>False</td>\n",
       "    </tr>\n",
       "    <tr>\n",
       "      <th>4</th>\n",
       "      <td>232</td>\n",
       "      <td>3.0</td>\n",
       "      <td>full_bar</td>\n",
       "      <td>True</td>\n",
       "      <td>True</td>\n",
       "      <td>2.0</td>\n",
       "      <td>False</td>\n",
       "      <td>free</td>\n",
       "      <td>False</td>\n",
       "      <td>True</td>\n",
       "      <td>False</td>\n",
       "      <td>False</td>\n",
       "      <td>False</td>\n",
       "    </tr>\n",
       "  </tbody>\n",
       "</table>\n",
       "</div>"
      ],
      "text/plain": [
       "   review_count  stars   Alcohol BikeParking BusinessAcceptsCreditCards  \\\n",
       "0           116    3.5  full_bar        True                       True   \n",
       "1            34    3.5  full_bar        True                       True   \n",
       "2            78    3.5  full_bar        True                       True   \n",
       "3            10    1.0      none        True                       True   \n",
       "4           232    3.0  full_bar        True                       True   \n",
       "\n",
       "   RestaurantsPriceRange2 RestaurantsReservations  WiFi garage   lot street  \\\n",
       "0                     2.0                   False  free  False  True  False   \n",
       "1                     2.0                    True    no  False  True  False   \n",
       "2                     2.0                   False  free  False  True   True   \n",
       "3                     1.0                   False  free  False  True  False   \n",
       "4                     2.0                   False  free  False  True  False   \n",
       "\n",
       "   valet validated  \n",
       "0  False     False  \n",
       "1  False     False  \n",
       "2  False     False  \n",
       "3  False     False  \n",
       "4  False     False  "
      ]
     },
     "execution_count": 14,
     "metadata": {},
     "output_type": "execute_result"
    }
   ],
   "source": [
    "# Drop rows with any missing data\n",
    "rest = rest_attributes_short.dropna(axis = 0, how = 'any')\n",
    "\n",
    "# Reset index\n",
    "rest.reset_index(drop = True, inplace = True)\n",
    "\n",
    "# Print shape of the resultant dataframe\n",
    "print(rest.shape)\n",
    "\n",
    "rest.head()"
   ]
  },
  {
   "cell_type": "markdown",
   "metadata": {
    "slideshow": {
     "slide_type": "slide"
    }
   },
   "source": [
    "### Feature Engineering"
   ]
  },
  {
   "cell_type": "markdown",
   "metadata": {
    "slideshow": {
     "slide_type": "fragment"
    }
   },
   "source": [
    "Now that I have a dataframe containing all the attributes I wish to use and the star ratings for each restaurant, I need to prepare the attributes for use in a model. While \"review_count\" has a data type of int and can be used as-is, the remainder of the attributes contain either categories or booleans. In order to transform these attributes into a format that can be used by a classifier, I'll use one-hot encoding to split these into multiple columns."
   ]
  },
  {
   "cell_type": "code",
   "execution_count": 15,
   "metadata": {
    "slideshow": {
     "slide_type": "slide"
    }
   },
   "outputs": [
    {
     "data": {
      "text/html": [
       "<div>\n",
       "<style>\n",
       "    .dataframe thead tr:only-child th {\n",
       "        text-align: right;\n",
       "    }\n",
       "\n",
       "    .dataframe thead th {\n",
       "        text-align: left;\n",
       "    }\n",
       "\n",
       "    .dataframe tbody tr th {\n",
       "        vertical-align: top;\n",
       "    }\n",
       "</style>\n",
       "<table border=\"1\" class=\"dataframe\">\n",
       "  <thead>\n",
       "    <tr style=\"text-align: right;\">\n",
       "      <th></th>\n",
       "      <th>review_count</th>\n",
       "      <th>stars</th>\n",
       "      <th>RestaurantsPriceRange2</th>\n",
       "      <th>Alcohol_beer_and_wine</th>\n",
       "      <th>Alcohol_full_bar</th>\n",
       "      <th>Alcohol_none</th>\n",
       "      <th>BikeParking_False</th>\n",
       "      <th>BikeParking_True</th>\n",
       "      <th>BusinessAcceptsCreditCards_False</th>\n",
       "      <th>BusinessAcceptsCreditCards_True</th>\n",
       "      <th>...</th>\n",
       "      <th>garage_False</th>\n",
       "      <th>garage_True</th>\n",
       "      <th>lot_False</th>\n",
       "      <th>lot_True</th>\n",
       "      <th>street_False</th>\n",
       "      <th>street_True</th>\n",
       "      <th>valet_False</th>\n",
       "      <th>valet_True</th>\n",
       "      <th>validated_False</th>\n",
       "      <th>validated_True</th>\n",
       "    </tr>\n",
       "  </thead>\n",
       "  <tbody>\n",
       "    <tr>\n",
       "      <th>0</th>\n",
       "      <td>116</td>\n",
       "      <td>3.5</td>\n",
       "      <td>2.0</td>\n",
       "      <td>0</td>\n",
       "      <td>1</td>\n",
       "      <td>0</td>\n",
       "      <td>0</td>\n",
       "      <td>1</td>\n",
       "      <td>0</td>\n",
       "      <td>1</td>\n",
       "      <td>...</td>\n",
       "      <td>1</td>\n",
       "      <td>0</td>\n",
       "      <td>0</td>\n",
       "      <td>1</td>\n",
       "      <td>1</td>\n",
       "      <td>0</td>\n",
       "      <td>1</td>\n",
       "      <td>0</td>\n",
       "      <td>1</td>\n",
       "      <td>0</td>\n",
       "    </tr>\n",
       "    <tr>\n",
       "      <th>1</th>\n",
       "      <td>34</td>\n",
       "      <td>3.5</td>\n",
       "      <td>2.0</td>\n",
       "      <td>0</td>\n",
       "      <td>1</td>\n",
       "      <td>0</td>\n",
       "      <td>0</td>\n",
       "      <td>1</td>\n",
       "      <td>0</td>\n",
       "      <td>1</td>\n",
       "      <td>...</td>\n",
       "      <td>1</td>\n",
       "      <td>0</td>\n",
       "      <td>0</td>\n",
       "      <td>1</td>\n",
       "      <td>1</td>\n",
       "      <td>0</td>\n",
       "      <td>1</td>\n",
       "      <td>0</td>\n",
       "      <td>1</td>\n",
       "      <td>0</td>\n",
       "    </tr>\n",
       "    <tr>\n",
       "      <th>2</th>\n",
       "      <td>78</td>\n",
       "      <td>3.5</td>\n",
       "      <td>2.0</td>\n",
       "      <td>0</td>\n",
       "      <td>1</td>\n",
       "      <td>0</td>\n",
       "      <td>0</td>\n",
       "      <td>1</td>\n",
       "      <td>0</td>\n",
       "      <td>1</td>\n",
       "      <td>...</td>\n",
       "      <td>1</td>\n",
       "      <td>0</td>\n",
       "      <td>0</td>\n",
       "      <td>1</td>\n",
       "      <td>0</td>\n",
       "      <td>1</td>\n",
       "      <td>1</td>\n",
       "      <td>0</td>\n",
       "      <td>1</td>\n",
       "      <td>0</td>\n",
       "    </tr>\n",
       "    <tr>\n",
       "      <th>3</th>\n",
       "      <td>10</td>\n",
       "      <td>1.0</td>\n",
       "      <td>1.0</td>\n",
       "      <td>0</td>\n",
       "      <td>0</td>\n",
       "      <td>1</td>\n",
       "      <td>0</td>\n",
       "      <td>1</td>\n",
       "      <td>0</td>\n",
       "      <td>1</td>\n",
       "      <td>...</td>\n",
       "      <td>1</td>\n",
       "      <td>0</td>\n",
       "      <td>0</td>\n",
       "      <td>1</td>\n",
       "      <td>1</td>\n",
       "      <td>0</td>\n",
       "      <td>1</td>\n",
       "      <td>0</td>\n",
       "      <td>1</td>\n",
       "      <td>0</td>\n",
       "    </tr>\n",
       "    <tr>\n",
       "      <th>4</th>\n",
       "      <td>232</td>\n",
       "      <td>3.0</td>\n",
       "      <td>2.0</td>\n",
       "      <td>0</td>\n",
       "      <td>1</td>\n",
       "      <td>0</td>\n",
       "      <td>0</td>\n",
       "      <td>1</td>\n",
       "      <td>0</td>\n",
       "      <td>1</td>\n",
       "      <td>...</td>\n",
       "      <td>1</td>\n",
       "      <td>0</td>\n",
       "      <td>0</td>\n",
       "      <td>1</td>\n",
       "      <td>1</td>\n",
       "      <td>0</td>\n",
       "      <td>1</td>\n",
       "      <td>0</td>\n",
       "      <td>1</td>\n",
       "      <td>0</td>\n",
       "    </tr>\n",
       "  </tbody>\n",
       "</table>\n",
       "<p>5 rows × 25 columns</p>\n",
       "</div>"
      ],
      "text/plain": [
       "   review_count  stars  RestaurantsPriceRange2  Alcohol_beer_and_wine  \\\n",
       "0           116    3.5                     2.0                      0   \n",
       "1            34    3.5                     2.0                      0   \n",
       "2            78    3.5                     2.0                      0   \n",
       "3            10    1.0                     1.0                      0   \n",
       "4           232    3.0                     2.0                      0   \n",
       "\n",
       "   Alcohol_full_bar  Alcohol_none  BikeParking_False  BikeParking_True  \\\n",
       "0                 1             0                  0                 1   \n",
       "1                 1             0                  0                 1   \n",
       "2                 1             0                  0                 1   \n",
       "3                 0             1                  0                 1   \n",
       "4                 1             0                  0                 1   \n",
       "\n",
       "   BusinessAcceptsCreditCards_False  BusinessAcceptsCreditCards_True  \\\n",
       "0                                 0                                1   \n",
       "1                                 0                                1   \n",
       "2                                 0                                1   \n",
       "3                                 0                                1   \n",
       "4                                 0                                1   \n",
       "\n",
       "        ...        garage_False  garage_True  lot_False  lot_True  \\\n",
       "0       ...                   1            0          0         1   \n",
       "1       ...                   1            0          0         1   \n",
       "2       ...                   1            0          0         1   \n",
       "3       ...                   1            0          0         1   \n",
       "4       ...                   1            0          0         1   \n",
       "\n",
       "   street_False  street_True  valet_False  valet_True  validated_False  \\\n",
       "0             1            0            1           0                1   \n",
       "1             1            0            1           0                1   \n",
       "2             0            1            1           0                1   \n",
       "3             1            0            1           0                1   \n",
       "4             1            0            1           0                1   \n",
       "\n",
       "   validated_True  \n",
       "0               0  \n",
       "1               0  \n",
       "2               0  \n",
       "3               0  \n",
       "4               0  \n",
       "\n",
       "[5 rows x 25 columns]"
      ]
     },
     "execution_count": 15,
     "metadata": {},
     "output_type": "execute_result"
    }
   ],
   "source": [
    "# Use one-hot encoding to transform data\n",
    "rest_info = pd.get_dummies(rest)\n",
    "\n",
    "rest_info.head()"
   ]
  },
  {
   "cell_type": "code",
   "execution_count": 16,
   "metadata": {
    "slideshow": {
     "slide_type": "fragment"
    }
   },
   "outputs": [
    {
     "data": {
      "text/plain": [
       "Index(['review_count', 'stars', 'RestaurantsPriceRange2',\n",
       "       'Alcohol_beer_and_wine', 'Alcohol_full_bar', 'Alcohol_none',\n",
       "       'BikeParking_False', 'BikeParking_True',\n",
       "       'BusinessAcceptsCreditCards_False', 'BusinessAcceptsCreditCards_True',\n",
       "       'RestaurantsReservations_False', 'RestaurantsReservations_True',\n",
       "       'WiFi_free', 'WiFi_no', 'WiFi_paid', 'garage_False', 'garage_True',\n",
       "       'lot_False', 'lot_True', 'street_False', 'street_True', 'valet_False',\n",
       "       'valet_True', 'validated_False', 'validated_True'],\n",
       "      dtype='object')"
      ]
     },
     "execution_count": 16,
     "metadata": {},
     "output_type": "execute_result"
    }
   ],
   "source": [
    "rest_info.columns"
   ]
  },
  {
   "cell_type": "markdown",
   "metadata": {
    "slideshow": {
     "slide_type": "slide"
    }
   },
   "source": [
    "### Star Rating by Review Count"
   ]
  },
  {
   "cell_type": "markdown",
   "metadata": {
    "slideshow": {
     "slide_type": "fragment"
    }
   },
   "source": [
    "In addition to looking at the attributes of restaurants, I looked into whether the number of reviews a restaurant has is related to the star rating. To do so, I isolated the review count and stars data, created a pivot table, and visualized the data with a bar chat."
   ]
  },
  {
   "cell_type": "code",
   "execution_count": 17,
   "metadata": {
    "slideshow": {
     "slide_type": "fragment"
    }
   },
   "outputs": [],
   "source": [
    "# Isolate the review count and star rating information in a new dataframe\n",
    "rest_reviews = rest_info[['review_count', 'stars']]"
   ]
  },
  {
   "cell_type": "code",
   "execution_count": 18,
   "metadata": {
    "slideshow": {
     "slide_type": "fragment"
    }
   },
   "outputs": [
    {
     "data": {
      "text/plain": [
       "4.0    7009\n",
       "3.5    6434\n",
       "3.0    4031\n",
       "4.5    2882\n",
       "2.5    1946\n",
       "2.0     857\n",
       "5.0     272\n",
       "1.5     266\n",
       "1.0      35\n",
       "Name: stars, dtype: int64"
      ]
     },
     "execution_count": 18,
     "metadata": {},
     "output_type": "execute_result"
    }
   ],
   "source": [
    "# View overall value counts of star ratings\n",
    "rest_reviews['stars'].value_counts()"
   ]
  },
  {
   "cell_type": "code",
   "execution_count": 19,
   "metadata": {
    "slideshow": {
     "slide_type": "slide"
    }
   },
   "outputs": [
    {
     "data": {
      "text/html": [
       "<div>\n",
       "<style>\n",
       "    .dataframe thead tr:only-child th {\n",
       "        text-align: right;\n",
       "    }\n",
       "\n",
       "    .dataframe thead th {\n",
       "        text-align: left;\n",
       "    }\n",
       "\n",
       "    .dataframe tbody tr th {\n",
       "        vertical-align: top;\n",
       "    }\n",
       "</style>\n",
       "<table border=\"1\" class=\"dataframe\">\n",
       "  <thead>\n",
       "    <tr style=\"text-align: right;\">\n",
       "      <th></th>\n",
       "      <th>review_count</th>\n",
       "    </tr>\n",
       "    <tr>\n",
       "      <th>stars</th>\n",
       "      <th></th>\n",
       "    </tr>\n",
       "  </thead>\n",
       "  <tbody>\n",
       "    <tr>\n",
       "      <th>1.0</th>\n",
       "      <td>7.857143</td>\n",
       "    </tr>\n",
       "    <tr>\n",
       "      <th>1.5</th>\n",
       "      <td>24.830827</td>\n",
       "    </tr>\n",
       "    <tr>\n",
       "      <th>2.0</th>\n",
       "      <td>33.119020</td>\n",
       "    </tr>\n",
       "    <tr>\n",
       "      <th>2.5</th>\n",
       "      <td>52.787256</td>\n",
       "    </tr>\n",
       "    <tr>\n",
       "      <th>3.0</th>\n",
       "      <td>69.255520</td>\n",
       "    </tr>\n",
       "    <tr>\n",
       "      <th>3.5</th>\n",
       "      <td>103.646876</td>\n",
       "    </tr>\n",
       "    <tr>\n",
       "      <th>4.0</th>\n",
       "      <td>149.907690</td>\n",
       "    </tr>\n",
       "    <tr>\n",
       "      <th>4.5</th>\n",
       "      <td>145.842817</td>\n",
       "    </tr>\n",
       "    <tr>\n",
       "      <th>5.0</th>\n",
       "      <td>48.106618</td>\n",
       "    </tr>\n",
       "  </tbody>\n",
       "</table>\n",
       "</div>"
      ],
      "text/plain": [
       "       review_count\n",
       "stars              \n",
       "1.0        7.857143\n",
       "1.5       24.830827\n",
       "2.0       33.119020\n",
       "2.5       52.787256\n",
       "3.0       69.255520\n",
       "3.5      103.646876\n",
       "4.0      149.907690\n",
       "4.5      145.842817\n",
       "5.0       48.106618"
      ]
     },
     "execution_count": 19,
     "metadata": {},
     "output_type": "execute_result"
    }
   ],
   "source": [
    "# Generate a pivot table grouped by star ratings that displays the average number of reviews\n",
    "pt = rest_reviews.pivot_table(index = 'stars', values = 'review_count')\n",
    "pt"
   ]
  },
  {
   "cell_type": "code",
   "execution_count": 20,
   "metadata": {
    "slideshow": {
     "slide_type": "slide"
    }
   },
   "outputs": [
    {
     "data": {
      "application/vnd.plotly.v1+json": {
       "data": [
        {
         "type": "bar",
         "x": [
          1,
          1.5,
          2,
          2.5,
          3,
          3.5,
          4,
          4.5,
          5
         ],
         "y": [
          7.857142857142857,
          24.830827067669173,
          33.11901983663944,
          52.78725590955807,
          69.25551972215331,
          103.64687597140193,
          149.90769011271223,
          145.84281748785565,
          48.106617647058826
         ]
        }
       ],
       "layout": {}
      },
      "text/html": [
       "<div id=\"60171fb9-a025-4ec7-ad2f-95fb3496b75e\" style=\"height: 525px; width: 100%;\" class=\"plotly-graph-div\"></div><script type=\"text/javascript\">require([\"plotly\"], function(Plotly) { window.PLOTLYENV=window.PLOTLYENV || {};window.PLOTLYENV.BASE_URL=\"https://plot.ly\";Plotly.newPlot(\"60171fb9-a025-4ec7-ad2f-95fb3496b75e\", [{\"type\": \"bar\", \"x\": [1.0, 1.5, 2.0, 2.5, 3.0, 3.5, 4.0, 4.5, 5.0], \"y\": [7.857142857142857, 24.830827067669173, 33.11901983663944, 52.78725590955807, 69.25551972215331, 103.64687597140193, 149.90769011271223, 145.84281748785565, 48.106617647058826]}], {}, {\"showLink\": true, \"linkText\": \"Export to plot.ly\"})});</script>"
      ],
      "text/vnd.plotly.v1+html": [
       "<div id=\"60171fb9-a025-4ec7-ad2f-95fb3496b75e\" style=\"height: 525px; width: 100%;\" class=\"plotly-graph-div\"></div><script type=\"text/javascript\">require([\"plotly\"], function(Plotly) { window.PLOTLYENV=window.PLOTLYENV || {};window.PLOTLYENV.BASE_URL=\"https://plot.ly\";Plotly.newPlot(\"60171fb9-a025-4ec7-ad2f-95fb3496b75e\", [{\"type\": \"bar\", \"x\": [1.0, 1.5, 2.0, 2.5, 3.0, 3.5, 4.0, 4.5, 5.0], \"y\": [7.857142857142857, 24.830827067669173, 33.11901983663944, 52.78725590955807, 69.25551972215331, 103.64687597140193, 149.90769011271223, 145.84281748785565, 48.106617647058826]}], {}, {\"showLink\": true, \"linkText\": \"Export to plot.ly\"})});</script>"
      ]
     },
     "metadata": {},
     "output_type": "display_data"
    }
   ],
   "source": [
    "# Plot the review count against the star rating as a bar chart\n",
    "data = [go.Bar(\n",
    "            x = pt.index,\n",
    "            y = pt['review_count']\n",
    "    )]\n",
    "\n",
    "plotly.offline.iplot(data, filename='reviews')"
   ]
  },
  {
   "cell_type": "markdown",
   "metadata": {
    "slideshow": {
     "slide_type": "fragment"
    }
   },
   "source": [
    "Because the review counts substantially differ with the number of stars for a restaurant, I'll need to take this into account when creating a model."
   ]
  },
  {
   "cell_type": "markdown",
   "metadata": {
    "slideshow": {
     "slide_type": "slide"
    }
   },
   "source": [
    "### K Neighbors Classifier"
   ]
  },
  {
   "cell_type": "code",
   "execution_count": 21,
   "metadata": {
    "slideshow": {
     "slide_type": "fragment"
    }
   },
   "outputs": [
    {
     "data": {
      "text/plain": [
       "0.27907303370786518"
      ]
     },
     "execution_count": 21,
     "metadata": {},
     "output_type": "execute_result"
    }
   ],
   "source": [
    "# Split out features and targets\n",
    "restaurant_features = rest_info.drop(['stars', 'review_count'], axis = 1)\n",
    "restaurant_targets = (rest_info['stars']*10).astype('int')\n",
    "\n",
    "# Train test split\n",
    "X_train, X_test, y_train, y_test = train_test_split(restaurant_features, restaurant_targets, test_size = 0.3, \n",
    "                                                    random_state = 42, stratify = restaurant_targets)\n",
    "\n",
    "# Model instantiation\n",
    "knn = KNeighborsClassifier(n_neighbors = 10)\n",
    "\n",
    "# Train model on training set\n",
    "knn.fit(X_train, y_train)\n",
    "\n",
    "# Predict labels for test set\n",
    "predict = knn.predict(X_test)\n",
    "\n",
    "# Accuracy score\n",
    "knn.score(X_test, y_test)"
   ]
  },
  {
   "cell_type": "code",
   "execution_count": 22,
   "metadata": {
    "slideshow": {
     "slide_type": "slide"
    }
   },
   "outputs": [
    {
     "name": "stdout",
     "output_type": "stream",
     "text": [
      "             precision    recall  f1-score   support\n",
      "\n",
      "         10       0.00      0.00      0.00        10\n",
      "         15       0.00      0.00      0.00        80\n",
      "         20       0.16      0.05      0.07       257\n",
      "         25       0.19      0.05      0.09       584\n",
      "         30       0.19      0.18      0.19      1209\n",
      "         35       0.31      0.36      0.33      1930\n",
      "         40       0.31      0.45      0.37      2103\n",
      "         45       0.25      0.10      0.14       865\n",
      "         50       0.03      0.02      0.03        82\n",
      "\n",
      "avg / total       0.26      0.28      0.26      7120\n",
      "\n"
     ]
    },
    {
     "name": "stderr",
     "output_type": "stream",
     "text": [
      "/anaconda3/lib/python3.6/site-packages/sklearn/metrics/classification.py:1135: UndefinedMetricWarning:\n",
      "\n",
      "Precision and F-score are ill-defined and being set to 0.0 in labels with no predicted samples.\n",
      "\n"
     ]
    }
   ],
   "source": [
    "# Display classification report\n",
    "print(classification_report(y_test, predict))"
   ]
  },
  {
   "cell_type": "markdown",
   "metadata": {
    "slideshow": {
     "slide_type": "fragment"
    }
   },
   "source": [
    "Overall, the K-Neighbors classifier does not well predict the star ratings of restaurants in the test sample. Based on the classification report, the precision, recall, and F1-score are highest for restaurants with 3.5, 4, and 4.5 stars, which are the most common ratings overall."
   ]
  },
  {
   "cell_type": "markdown",
   "metadata": {
    "slideshow": {
     "slide_type": "slide"
    }
   },
   "source": [
    "### Decision Tree Classifier"
   ]
  },
  {
   "cell_type": "code",
   "execution_count": 23,
   "metadata": {
    "slideshow": {
     "slide_type": "fragment"
    }
   },
   "outputs": [
    {
     "data": {
      "text/plain": [
       "0.31643258426966292"
      ]
     },
     "execution_count": 23,
     "metadata": {},
     "output_type": "execute_result"
    }
   ],
   "source": [
    "# Split out features and targets\n",
    "restaurant_features1 = rest_info.drop(['stars'], axis = 1)\n",
    "restaurant_targets1 = (rest_info['stars']*10).astype('int')\n",
    "\n",
    "# Train test split\n",
    "X_train1, X_test1, y_train1, y_test1 = train_test_split(restaurant_features1, restaurant_targets1, test_size = 0.3, \n",
    "                                                    random_state = 42, stratify = restaurant_targets1)\n",
    "\n",
    "# Model initialization\n",
    "tree = DecisionTreeClassifier(max_depth = 3)\n",
    "\n",
    "# Train model on training set\n",
    "tree.fit(X_train1, y_train1, sample_weight = X_train1['review_count'])\n",
    "\n",
    "# Predict labels for test set\n",
    "predict1 = tree.predict(X_test1)\n",
    "\n",
    "# Accuracy score\n",
    "tree.score(X_test1, y_test1)"
   ]
  },
  {
   "cell_type": "code",
   "execution_count": 24,
   "metadata": {
    "slideshow": {
     "slide_type": "slide"
    }
   },
   "outputs": [
    {
     "name": "stdout",
     "output_type": "stream",
     "text": [
      "             precision    recall  f1-score   support\n",
      "\n",
      "         10       0.00      0.00      0.00        10\n",
      "         15       0.00      0.00      0.00        80\n",
      "         20       0.00      0.00      0.00       257\n",
      "         25       0.00      0.00      0.00       584\n",
      "         30       0.00      0.00      0.00      1209\n",
      "         35       0.33      0.34      0.34      1930\n",
      "         40       0.31      0.76      0.44      2103\n",
      "         45       0.00      0.00      0.00       865\n",
      "         50       0.00      0.00      0.00        82\n",
      "\n",
      "avg / total       0.18      0.32      0.22      7120\n",
      "\n"
     ]
    },
    {
     "name": "stderr",
     "output_type": "stream",
     "text": [
      "/anaconda3/lib/python3.6/site-packages/sklearn/metrics/classification.py:1135: UndefinedMetricWarning:\n",
      "\n",
      "Precision and F-score are ill-defined and being set to 0.0 in labels with no predicted samples.\n",
      "\n"
     ]
    }
   ],
   "source": [
    "# Display classification report\n",
    "print(classification_report(y_test1, predict1))"
   ]
  },
  {
   "cell_type": "markdown",
   "metadata": {
    "slideshow": {
     "slide_type": "fragment"
    }
   },
   "source": [
    "While performing slightly better than the K Neighbors classifier, the Decision Tree classifier also does not well predict the star ratings of restaurants, even when samples are weighted based on the review count feature."
   ]
  },
  {
   "cell_type": "markdown",
   "metadata": {
    "slideshow": {
     "slide_type": "slide"
    }
   },
   "source": [
    "### Summary"
   ]
  },
  {
   "cell_type": "markdown",
   "metadata": {
    "slideshow": {
     "slide_type": "fragment"
    }
   },
   "source": [
    "Using the attributes provided in the Yelp dataset, neither a K Neighbors classifier nor a Decision Tree classifier was able to predict with a high degree of accuracy the star rating of a restaurant. While it's possible that features like parking, WiFi, and reservations affect a patron's opinion of a restaurant, the star rating given is likely mainly based upon the quality of the food.  \n",
    "\n",
    "In the future, I would like to further analyze the dataset by delving into the different categories of restaurant-type businesses to evaluate whether different attributes have varying impacts on the ratings of different categories of businesses. For example, I would predict that the rating of coffee shops is more highly impacted by whether or not they have WiFi than that of a sit-down restaurant."
   ]
  },
  {
   "cell_type": "markdown",
   "metadata": {
    "slideshow": {
     "slide_type": "slide"
    }
   },
   "source": [
    "![title](images/Graduate_Project_Julie_Doherty.005.jpeg)"
   ]
  }
 ],
 "metadata": {
  "celltoolbar": "Slideshow",
  "kernelspec": {
   "display_name": "Python 3",
   "language": "python",
   "name": "python3"
  },
  "language_info": {
   "codemirror_mode": {
    "name": "ipython",
    "version": 3
   },
   "file_extension": ".py",
   "mimetype": "text/x-python",
   "name": "python",
   "nbconvert_exporter": "python",
   "pygments_lexer": "ipython3",
   "version": "3.6.3"
  }
 },
 "nbformat": 4,
 "nbformat_minor": 2
}
